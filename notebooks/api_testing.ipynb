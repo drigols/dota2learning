{
 "cells": [
  {
   "cell_type": "markdown",
   "id": "072a4e31",
   "metadata": {},
   "source": [
    "# API Testing"
   ]
  },
  {
   "cell_type": "markdown",
   "id": "7de3af58",
   "metadata": {},
   "source": [
    "## 01 - Get Heroes data from OpenDota API"
   ]
  },
  {
   "cell_type": "markdown",
   "id": "456abda6",
   "metadata": {},
   "source": [
    "## Imports Libraries/Modules"
   ]
  },
  {
   "cell_type": "code",
   "execution_count": 1,
   "id": "72d2e040",
   "metadata": {},
   "outputs": [],
   "source": [
    "import pandas as pd\n",
    "import requests\n",
    "import json"
   ]
  },
  {
   "cell_type": "markdown",
   "id": "a6c659c2",
   "metadata": {},
   "source": [
    "## URLs"
   ]
  },
  {
   "cell_type": "code",
   "execution_count": 2,
   "id": "db427594",
   "metadata": {},
   "outputs": [],
   "source": [
    "HEROES_STATS_URL = 'https://api.opendota.com/api/heroStats'"
   ]
  },
  {
   "cell_type": "markdown",
   "id": "222f0878",
   "metadata": {},
   "source": [
    "## Get data from OpenDota API"
   ]
  },
  {
   "cell_type": "code",
   "execution_count": 3,
   "id": "70e36f8d",
   "metadata": {},
   "outputs": [],
   "source": [
    "response = requests.get(f\"{HEROES_STATS_URL}\")"
   ]
  },
  {
   "cell_type": "code",
   "execution_count": 4,
   "id": "cca3313b",
   "metadata": {},
   "outputs": [
    {
     "data": {
      "text/plain": [
       "<Response [200]>"
      ]
     },
     "execution_count": 4,
     "metadata": {},
     "output_type": "execute_result"
    }
   ],
   "source": [
    "response"
   ]
  },
  {
   "cell_type": "code",
   "execution_count": 5,
   "id": "11488a91",
   "metadata": {},
   "outputs": [
    {
     "data": {
      "text/plain": [
       "requests.models.Response"
      ]
     },
     "execution_count": 5,
     "metadata": {},
     "output_type": "execute_result"
    }
   ],
   "source": [
    "type(response)"
   ]
  },
  {
   "cell_type": "markdown",
   "id": "e2f3d07b",
   "metadata": {},
   "source": [
    "## Convert JSON Data to Python List of Dictionaries"
   ]
  },
  {
   "cell_type": "code",
   "execution_count": 6,
   "id": "550297fe",
   "metadata": {},
   "outputs": [],
   "source": [
    "heroes = json.loads(response.text)"
   ]
  },
  {
   "cell_type": "code",
   "execution_count": 7,
   "id": "a103a400",
   "metadata": {},
   "outputs": [
    {
     "data": {
      "text/plain": [
       "list"
      ]
     },
     "execution_count": 7,
     "metadata": {},
     "output_type": "execute_result"
    }
   ],
   "source": [
    "type(heroes)"
   ]
  },
  {
   "cell_type": "code",
   "execution_count": 8,
   "id": "40c55fc9",
   "metadata": {},
   "outputs": [
    {
     "data": {
      "text/plain": [
       "123"
      ]
     },
     "execution_count": 8,
     "metadata": {},
     "output_type": "execute_result"
    }
   ],
   "source": [
    "len(heroes) # 123 Heroes"
   ]
  },
  {
   "cell_type": "code",
   "execution_count": 9,
   "id": "947f40d2",
   "metadata": {
    "scrolled": false
   },
   "outputs": [
    {
     "data": {
      "text/plain": [
       "[{'id': 1,\n",
       "  'name': 'npc_dota_hero_antimage',\n",
       "  'localized_name': 'Anti-Mage',\n",
       "  'primary_attr': 'agi',\n",
       "  'attack_type': 'Melee',\n",
       "  'roles': ['Carry', 'Escape', 'Nuker'],\n",
       "  'img': '/apps/dota2/images/dota_react/heroes/antimage.png?',\n",
       "  'icon': '/apps/dota2/images/dota_react/heroes/icons/antimage.png?',\n",
       "  'base_health': 200,\n",
       "  'base_health_regen': 0.25,\n",
       "  'base_mana': 75,\n",
       "  'base_mana_regen': 0,\n",
       "  'base_armor': 0,\n",
       "  'base_mr': 25,\n",
       "  'base_attack_min': 29,\n",
       "  'base_attack_max': 33,\n",
       "  'base_str': 21,\n",
       "  'base_agi': 24,\n",
       "  'base_int': 12,\n",
       "  'str_gain': 1.6,\n",
       "  'agi_gain': 2.8,\n",
       "  'int_gain': 1.8,\n",
       "  'attack_range': 150,\n",
       "  'projectile_speed': 0,\n",
       "  'attack_rate': 1.4,\n",
       "  'move_speed': 310,\n",
       "  'turn_rate': None,\n",
       "  'cm_enabled': True,\n",
       "  'legs': 2,\n",
       "  'hero_id': 1,\n",
       "  'turbo_picks': 542513,\n",
       "  'turbo_wins': 275799,\n",
       "  'pro_ban': 714,\n",
       "  'pro_win': 87,\n",
       "  'pro_pick': 165,\n",
       "  '1_pick': 33184,\n",
       "  '1_win': 15909,\n",
       "  '2_pick': 48243,\n",
       "  '2_win': 23047,\n",
       "  '3_pick': 48827,\n",
       "  '3_win': 23560,\n",
       "  '4_pick': 37723,\n",
       "  '4_win': 17856,\n",
       "  '5_pick': 21086,\n",
       "  '5_win': 9950,\n",
       "  '6_pick': 9842,\n",
       "  '6_win': 4632,\n",
       "  '7_pick': 5049,\n",
       "  '7_win': 2389,\n",
       "  '8_pick': 1906,\n",
       "  '8_win': 873,\n",
       "  'null_pick': 2148109,\n",
       "  'null_win': 0}]"
      ]
     },
     "execution_count": 9,
     "metadata": {},
     "output_type": "execute_result"
    }
   ],
   "source": [
    "# Show the first hero.\n",
    "heroes[:1]"
   ]
  },
  {
   "cell_type": "markdown",
   "id": "d939a674",
   "metadata": {},
   "source": [
    "## Create a function that return a list of specific fields API"
   ]
  },
  {
   "cell_type": "code",
   "execution_count": 10,
   "id": "b3cfdb47",
   "metadata": {},
   "outputs": [],
   "source": [
    "def get_heroes_stats():\n",
    "    try:\n",
    "        response = requests.get(f\"{HEROES_STATS_URL}\")\n",
    "    except Exception as error:\n",
    "        return print(\"You have problem to get Heroes Stats:\", error)\n",
    "    else:\n",
    "        heroes_stats = []\n",
    "        temp = []\n",
    "        heroes = json.loads(response.text)\n",
    "        for hero in range(len(heroes)):\n",
    "            temp.append(heroes[hero][\"id\"])\n",
    "            temp.append(heroes[hero][\"name\"])\n",
    "            temp.append(heroes[hero][\"localized_name\"])\n",
    "            temp.append(heroes[hero][\"primary_attr\"])\n",
    "            temp.append(heroes[hero][\"attack_type\"])\n",
    "            temp.append(\"https://api.opendota.com\"+heroes[hero][\"img\"])\n",
    "            temp.append(\"https://api.opendota.com\"+heroes[hero][\"icon\"])\n",
    "            temp.append(heroes[hero][\"base_health\"])\n",
    "            temp.append(heroes[hero][\"base_health_regen\"])\n",
    "            temp.append(heroes[hero][\"base_mana\"])\n",
    "            temp.append(heroes[hero][\"base_mana_regen\"])\n",
    "            temp.append(heroes[hero][\"base_armor\"])\n",
    "            temp.append(heroes[hero][\"base_attack_min\"])\n",
    "            temp.append(heroes[hero][\"base_attack_max\"])\n",
    "            temp.append(heroes[hero][\"base_str\"])\n",
    "            temp.append(heroes[hero][\"base_agi\"])\n",
    "            temp.append(heroes[hero][\"base_int\"])\n",
    "            temp.append(heroes[hero][\"str_gain\"])\n",
    "            temp.append(heroes[hero][\"agi_gain\"])\n",
    "            temp.append(heroes[hero][\"int_gain\"])\n",
    "            temp.append(heroes[hero][\"attack_range\"])\n",
    "            temp.append(heroes[hero][\"projectile_speed\"])\n",
    "            temp.append(heroes[hero][\"move_speed\"])\n",
    "            temp.append(heroes[hero][\"legs\"])\n",
    "            heroes_stats.append(temp)\n",
    "            temp = []\n",
    "        return heroes_stats"
   ]
  },
  {
   "cell_type": "code",
   "execution_count": 11,
   "id": "4e7a4d30",
   "metadata": {},
   "outputs": [],
   "source": [
    "heroes = get_heroes_stats()"
   ]
  },
  {
   "cell_type": "code",
   "execution_count": 12,
   "id": "d5e6d5b1",
   "metadata": {},
   "outputs": [
    {
     "data": {
      "text/plain": [
       "123"
      ]
     },
     "execution_count": 12,
     "metadata": {},
     "output_type": "execute_result"
    }
   ],
   "source": [
    "len(heroes)"
   ]
  },
  {
   "cell_type": "code",
   "execution_count": 13,
   "id": "0914c66b",
   "metadata": {},
   "outputs": [
    {
     "data": {
      "text/plain": [
       "list"
      ]
     },
     "execution_count": 13,
     "metadata": {},
     "output_type": "execute_result"
    }
   ],
   "source": [
    "type(heroes)"
   ]
  },
  {
   "cell_type": "code",
   "execution_count": 14,
   "id": "036c686e",
   "metadata": {},
   "outputs": [],
   "source": [
    "# Show all heroes and specifics fields.\n",
    "# heroes"
   ]
  },
  {
   "cell_type": "markdown",
   "id": "cc6a22c9",
   "metadata": {},
   "source": [
    "## Print all heroes and specific fields"
   ]
  },
  {
   "cell_type": "code",
   "execution_count": null,
   "id": "3c932870",
   "metadata": {
    "scrolled": false
   },
   "outputs": [],
   "source": [
    "for hero in range(len(heroes)):\n",
    "    print(heroes[hero][\"id\"])\n",
    "    print(heroes[hero][\"name\"])\n",
    "    print(heroes[hero][\"localized_name\"])\n",
    "    print(heroes[hero][\"primary_attr\"])\n",
    "    print(heroes[hero][\"attack_type\"])\n",
    "    print(heroes[hero][\"img\"])\n",
    "    print(heroes[hero][\"icon\"])\n",
    "    print(heroes[hero][\"base_health\"])\n",
    "    print(heroes[hero][\"base_health_regen\"])\n",
    "    print(heroes[hero][\"base_mana\"])\n",
    "    print(heroes[hero][\"base_mana_regen\"])\n",
    "    print(heroes[hero][\"base_armor\"])\n",
    "    print(heroes[hero][\"base_attack_min\"])\n",
    "    print(heroes[hero][\"base_attack_max\"])\n",
    "    print(heroes[hero][\"base_str\"])\n",
    "    print(heroes[hero][\"base_agi\"])\n",
    "    print(heroes[hero][\"base_int\"])\n",
    "    print(heroes[hero][\"str_gain\"])\n",
    "    print(heroes[hero][\"agi_gain\"])\n",
    "    print(heroes[hero][\"int_gain\"])\n",
    "    print(heroes[hero][\"attack_range\"])\n",
    "    print(heroes[hero][\"projectile_speed\"])\n",
    "    print(heroes[hero][\"move_speed\"])\n",
    "    print(\"\\n\")"
   ]
  },
  {
   "cell_type": "markdown",
   "id": "c4999e5f",
   "metadata": {},
   "source": [
    "---"
   ]
  },
  {
   "cell_type": "markdown",
   "id": "8216d119",
   "metadata": {},
   "source": [
    "**REFERENCES:**  \n",
    "[TypeError: list indices must be integers, not dict](https://stackoverflow.com/questions/26266425/typeerror-list-indices-must-be-integers-not-dict)  "
   ]
  },
  {
   "cell_type": "markdown",
   "id": "c353d1bc",
   "metadata": {},
   "source": [
    "**Rodrigo Leite -** *drigols*"
   ]
  }
 ],
 "metadata": {
  "kernelspec": {
   "display_name": "Python 3",
   "language": "python",
   "name": "python3"
  },
  "language_info": {
   "codemirror_mode": {
    "name": "ipython",
    "version": 3
   },
   "file_extension": ".py",
   "mimetype": "text/x-python",
   "name": "python",
   "nbconvert_exporter": "python",
   "pygments_lexer": "ipython3",
   "version": "3.8.8"
  }
 },
 "nbformat": 4,
 "nbformat_minor": 5
}
